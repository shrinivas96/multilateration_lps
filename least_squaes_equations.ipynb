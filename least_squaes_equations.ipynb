{
 "cells": [
  {
   "cell_type": "code",
   "execution_count": 1,
   "metadata": {},
   "outputs": [],
   "source": [
    "import sympy as sp\n",
    "import numpy as np"
   ]
  },
  {
   "cell_type": "code",
   "execution_count": 2,
   "metadata": {},
   "outputs": [],
   "source": [
    "t = sp.Symbol('t')\n",
    "\n",
    "x1, y1 = sp.symbols('x_1 y_1')\n",
    "x2, y2 = sp.symbols('x_2 y_2')\n",
    "x3, y3 = sp.symbols('x_3 y_3')\n",
    "x4, y4 = sp.symbols('x_4 y_4')\n",
    "\n",
    "n1, n2, n3, n4 = 0, 0, 0, 0     # sp.symbols('n_1 n_2 n_3 n_4')\n",
    "\n",
    "xp = sp.Function('x_p')(t)\n",
    "yp = sp.Function('y_p')(t)\n",
    "state = sp.Matrix([xp, yp])\n",
    "constants = [(x1, 0), (y1, 0), (x2, 0), (y2, 60), (x3, 100), (y3, 60), (x4, 100), (y4, 0)]"
   ]
  },
  {
   "cell_type": "code",
   "execution_count": 3,
   "metadata": {},
   "outputs": [
    {
     "data": {
      "text/latex": [
       "$\\displaystyle \\left[\\begin{matrix}\\sqrt{x_{p}^{2}{\\left(t \\right)} + y_{p}^{2}{\\left(t \\right)}}\\\\\\sqrt{\\left(y_{p}{\\left(t \\right)} - 60\\right)^{2} + x_{p}^{2}{\\left(t \\right)}}\\\\\\sqrt{\\left(x_{p}{\\left(t \\right)} - 100\\right)^{2} + \\left(y_{p}{\\left(t \\right)} - 60\\right)^{2}}\\\\\\sqrt{\\left(x_{p}{\\left(t \\right)} - 100\\right)^{2} + y_{p}^{2}{\\left(t \\right)}}\\end{matrix}\\right]$"
      ],
      "text/plain": [
       "Matrix([\n",
       "[               sqrt(x_p(t)**2 + y_p(t)**2)],\n",
       "[        sqrt((y_p(t) - 60)**2 + x_p(t)**2)],\n",
       "[sqrt((x_p(t) - 100)**2 + (y_p(t) - 60)**2)],\n",
       "[       sqrt((x_p(t) - 100)**2 + y_p(t)**2)]])"
      ]
     },
     "metadata": {},
     "output_type": "display_data"
    },
    {
     "data": {
      "text/latex": [
       "$\\displaystyle \\left[\\begin{matrix}\\frac{x_{p}{\\left(t \\right)}}{\\sqrt{x_{p}^{2}{\\left(t \\right)} + y_{p}^{2}{\\left(t \\right)}}} & \\frac{y_{p}{\\left(t \\right)}}{\\sqrt{x_{p}^{2}{\\left(t \\right)} + y_{p}^{2}{\\left(t \\right)}}}\\\\\\frac{x_{p}{\\left(t \\right)}}{\\sqrt{\\left(y_{p}{\\left(t \\right)} - 60\\right)^{2} + x_{p}^{2}{\\left(t \\right)}}} & \\frac{y_{p}{\\left(t \\right)} - 60}{\\sqrt{\\left(y_{p}{\\left(t \\right)} - 60\\right)^{2} + x_{p}^{2}{\\left(t \\right)}}}\\\\\\frac{x_{p}{\\left(t \\right)} - 100}{\\sqrt{\\left(x_{p}{\\left(t \\right)} - 100\\right)^{2} + \\left(y_{p}{\\left(t \\right)} - 60\\right)^{2}}} & \\frac{y_{p}{\\left(t \\right)} - 60}{\\sqrt{\\left(x_{p}{\\left(t \\right)} - 100\\right)^{2} + \\left(y_{p}{\\left(t \\right)} - 60\\right)^{2}}}\\\\\\frac{x_{p}{\\left(t \\right)} - 100}{\\sqrt{\\left(x_{p}{\\left(t \\right)} - 100\\right)^{2} + y_{p}^{2}{\\left(t \\right)}}} & \\frac{y_{p}{\\left(t \\right)}}{\\sqrt{\\left(x_{p}{\\left(t \\right)} - 100\\right)^{2} + y_{p}^{2}{\\left(t \\right)}}}\\end{matrix}\\right]$"
      ],
      "text/plain": [
       "Matrix([\n",
       "[                       x_p(t)/sqrt(x_p(t)**2 + y_p(t)**2),                       y_p(t)/sqrt(x_p(t)**2 + y_p(t)**2)],\n",
       "[                x_p(t)/sqrt((y_p(t) - 60)**2 + x_p(t)**2),         (y_p(t) - 60)/sqrt((y_p(t) - 60)**2 + x_p(t)**2)],\n",
       "[(x_p(t) - 100)/sqrt((x_p(t) - 100)**2 + (y_p(t) - 60)**2), (y_p(t) - 60)/sqrt((x_p(t) - 100)**2 + (y_p(t) - 60)**2)],\n",
       "[       (x_p(t) - 100)/sqrt((x_p(t) - 100)**2 + y_p(t)**2),               y_p(t)/sqrt((x_p(t) - 100)**2 + y_p(t)**2)]])"
      ]
     },
     "metadata": {},
     "output_type": "display_data"
    }
   ],
   "source": [
    "g = sp.Matrix([sp.sqrt((xp - x1)**2 + (yp - y1)**2) + n1,\n",
    "               sp.sqrt((xp - x2)**2 + (yp - y2)**2) + n2,\n",
    "               sp.sqrt((xp - x3)**2 + (yp - y3)**2) + n3,\n",
    "               sp.sqrt((xp - x4)**2 + (yp - y4)**2) + n4])\n",
    "gConstEvaled = g.subs(constants)\n",
    "display(gConstEvaled)\n",
    "gPartDeriv = gConstEvaled.jacobian(state)\n",
    "# gCPartDeriv = gPartDeriv.subs(constants)\n",
    "display(gPartDeriv)"
   ]
  },
  {
   "cell_type": "code",
   "execution_count": 8,
   "metadata": {},
   "outputs": [
    {
     "name": "stdout",
     "output_type": "stream",
     "text": [
      "[20] [20]\n"
     ]
    },
    {
     "ename": "SympifyError",
     "evalue": "SympifyError: array([20])",
     "output_type": "error",
     "traceback": [
      "\u001b[0;31m---------------------------------------------------------------------------\u001b[0m",
      "\u001b[0;31mSympifyError\u001b[0m                              Traceback (most recent call last)",
      "Cell \u001b[0;32mIn[8], line 8\u001b[0m\n\u001b[1;32m      6\u001b[0m \u001b[38;5;28mprint\u001b[39m(x_t, y_t)\n\u001b[1;32m      7\u001b[0m state_eval \u001b[38;5;241m=\u001b[39m [(xp, x_t), (yp, y_t)]\n\u001b[0;32m----> 8\u001b[0m Ji \u001b[38;5;241m=\u001b[39m \u001b[43mgPartDeriv\u001b[49m\u001b[38;5;241;43m.\u001b[39;49m\u001b[43msubs\u001b[49m\u001b[43m(\u001b[49m\u001b[43mstate_eval\u001b[49m\u001b[43m)\u001b[49m\n\u001b[1;32m      9\u001b[0m Pi1 \u001b[38;5;241m=\u001b[39m Ji\u001b[38;5;241m.\u001b[39mT \u001b[38;5;241m*\u001b[39m Ji\n\u001b[1;32m     10\u001b[0m Pi \u001b[38;5;241m=\u001b[39m \u001b[38;5;241m-\u001b[39mPi1\u001b[38;5;241m.\u001b[39minv() \u001b[38;5;241m*\u001b[39m Ji\u001b[38;5;241m.\u001b[39mT\n",
      "File \u001b[0;32m~/workspace/kinexon/lps/lib/python3.10/site-packages/sympy/matrices/common.py:2357\u001b[0m, in \u001b[0;36mMatrixOperations.subs\u001b[0;34m(self, *args, **kwargs)\u001b[0m\n\u001b[1;32m   2354\u001b[0m \u001b[38;5;28;01mif\u001b[39;00m \u001b[38;5;28mlen\u001b[39m(args) \u001b[38;5;241m==\u001b[39m \u001b[38;5;241m1\u001b[39m \u001b[38;5;129;01mand\u001b[39;00m  \u001b[38;5;129;01mnot\u001b[39;00m \u001b[38;5;28misinstance\u001b[39m(args[\u001b[38;5;241m0\u001b[39m], (\u001b[38;5;28mdict\u001b[39m, \u001b[38;5;28mset\u001b[39m)) \u001b[38;5;129;01mand\u001b[39;00m \u001b[38;5;28miter\u001b[39m(args[\u001b[38;5;241m0\u001b[39m]) \u001b[38;5;129;01mand\u001b[39;00m \u001b[38;5;129;01mnot\u001b[39;00m is_sequence(args[\u001b[38;5;241m0\u001b[39m]):\n\u001b[1;32m   2355\u001b[0m     args \u001b[38;5;241m=\u001b[39m (\u001b[38;5;28mlist\u001b[39m(args[\u001b[38;5;241m0\u001b[39m]),)\n\u001b[0;32m-> 2357\u001b[0m \u001b[38;5;28;01mreturn\u001b[39;00m \u001b[38;5;28;43mself\u001b[39;49m\u001b[38;5;241;43m.\u001b[39;49m\u001b[43mapplyfunc\u001b[49m\u001b[43m(\u001b[49m\u001b[38;5;28;43;01mlambda\u001b[39;49;00m\u001b[43m \u001b[49m\u001b[43mx\u001b[49m\u001b[43m:\u001b[49m\u001b[43m \u001b[49m\u001b[43mx\u001b[49m\u001b[38;5;241;43m.\u001b[39;49m\u001b[43msubs\u001b[49m\u001b[43m(\u001b[49m\u001b[38;5;241;43m*\u001b[39;49m\u001b[43margs\u001b[49m\u001b[43m,\u001b[49m\u001b[43m \u001b[49m\u001b[38;5;241;43m*\u001b[39;49m\u001b[38;5;241;43m*\u001b[39;49m\u001b[43mkwargs\u001b[49m\u001b[43m)\u001b[49m\u001b[43m)\u001b[49m\n",
      "File \u001b[0;32m~/workspace/kinexon/lps/lib/python3.10/site-packages/sympy/matrices/common.py:1989\u001b[0m, in \u001b[0;36mMatrixOperations.applyfunc\u001b[0;34m(self, f)\u001b[0m\n\u001b[1;32m   1986\u001b[0m \u001b[38;5;28;01mif\u001b[39;00m \u001b[38;5;129;01mnot\u001b[39;00m \u001b[38;5;28mcallable\u001b[39m(f):\n\u001b[1;32m   1987\u001b[0m     \u001b[38;5;28;01mraise\u001b[39;00m \u001b[38;5;167;01mTypeError\u001b[39;00m(\u001b[38;5;124m\"\u001b[39m\u001b[38;5;124m`f` must be callable.\u001b[39m\u001b[38;5;124m\"\u001b[39m)\n\u001b[0;32m-> 1989\u001b[0m \u001b[38;5;28;01mreturn\u001b[39;00m \u001b[38;5;28;43mself\u001b[39;49m\u001b[38;5;241;43m.\u001b[39;49m\u001b[43m_eval_applyfunc\u001b[49m\u001b[43m(\u001b[49m\u001b[43mf\u001b[49m\u001b[43m)\u001b[49m\n",
      "File \u001b[0;32m~/workspace/kinexon/lps/lib/python3.10/site-packages/sympy/matrices/common.py:1931\u001b[0m, in \u001b[0;36mMatrixOperations._eval_applyfunc\u001b[0;34m(self, f)\u001b[0m\n\u001b[1;32m   1930\u001b[0m \u001b[38;5;28;01mdef\u001b[39;00m \u001b[38;5;21m_eval_applyfunc\u001b[39m(\u001b[38;5;28mself\u001b[39m, f):\n\u001b[0;32m-> 1931\u001b[0m     out \u001b[38;5;241m=\u001b[39m \u001b[38;5;28mself\u001b[39m\u001b[38;5;241m.\u001b[39m_new(\u001b[38;5;28mself\u001b[39m\u001b[38;5;241m.\u001b[39mrows, \u001b[38;5;28mself\u001b[39m\u001b[38;5;241m.\u001b[39mcols, [f(x) \u001b[38;5;28;01mfor\u001b[39;00m x \u001b[38;5;129;01min\u001b[39;00m \u001b[38;5;28mself\u001b[39m])\n\u001b[1;32m   1932\u001b[0m     \u001b[38;5;28;01mreturn\u001b[39;00m out\n",
      "File \u001b[0;32m~/workspace/kinexon/lps/lib/python3.10/site-packages/sympy/matrices/common.py:1931\u001b[0m, in \u001b[0;36m<listcomp>\u001b[0;34m(.0)\u001b[0m\n\u001b[1;32m   1930\u001b[0m \u001b[38;5;28;01mdef\u001b[39;00m \u001b[38;5;21m_eval_applyfunc\u001b[39m(\u001b[38;5;28mself\u001b[39m, f):\n\u001b[0;32m-> 1931\u001b[0m     out \u001b[38;5;241m=\u001b[39m \u001b[38;5;28mself\u001b[39m\u001b[38;5;241m.\u001b[39m_new(\u001b[38;5;28mself\u001b[39m\u001b[38;5;241m.\u001b[39mrows, \u001b[38;5;28mself\u001b[39m\u001b[38;5;241m.\u001b[39mcols, [\u001b[43mf\u001b[49m\u001b[43m(\u001b[49m\u001b[43mx\u001b[49m\u001b[43m)\u001b[49m \u001b[38;5;28;01mfor\u001b[39;00m x \u001b[38;5;129;01min\u001b[39;00m \u001b[38;5;28mself\u001b[39m])\n\u001b[1;32m   1932\u001b[0m     \u001b[38;5;28;01mreturn\u001b[39;00m out\n",
      "File \u001b[0;32m~/workspace/kinexon/lps/lib/python3.10/site-packages/sympy/matrices/common.py:2357\u001b[0m, in \u001b[0;36mMatrixOperations.subs.<locals>.<lambda>\u001b[0;34m(x)\u001b[0m\n\u001b[1;32m   2354\u001b[0m \u001b[38;5;28;01mif\u001b[39;00m \u001b[38;5;28mlen\u001b[39m(args) \u001b[38;5;241m==\u001b[39m \u001b[38;5;241m1\u001b[39m \u001b[38;5;129;01mand\u001b[39;00m  \u001b[38;5;129;01mnot\u001b[39;00m \u001b[38;5;28misinstance\u001b[39m(args[\u001b[38;5;241m0\u001b[39m], (\u001b[38;5;28mdict\u001b[39m, \u001b[38;5;28mset\u001b[39m)) \u001b[38;5;129;01mand\u001b[39;00m \u001b[38;5;28miter\u001b[39m(args[\u001b[38;5;241m0\u001b[39m]) \u001b[38;5;129;01mand\u001b[39;00m \u001b[38;5;129;01mnot\u001b[39;00m is_sequence(args[\u001b[38;5;241m0\u001b[39m]):\n\u001b[1;32m   2355\u001b[0m     args \u001b[38;5;241m=\u001b[39m (\u001b[38;5;28mlist\u001b[39m(args[\u001b[38;5;241m0\u001b[39m]),)\n\u001b[0;32m-> 2357\u001b[0m \u001b[38;5;28;01mreturn\u001b[39;00m \u001b[38;5;28mself\u001b[39m\u001b[38;5;241m.\u001b[39mapplyfunc(\u001b[38;5;28;01mlambda\u001b[39;00m x: \u001b[43mx\u001b[49m\u001b[38;5;241;43m.\u001b[39;49m\u001b[43msubs\u001b[49m\u001b[43m(\u001b[49m\u001b[38;5;241;43m*\u001b[39;49m\u001b[43margs\u001b[49m\u001b[43m,\u001b[49m\u001b[43m \u001b[49m\u001b[38;5;241;43m*\u001b[39;49m\u001b[38;5;241;43m*\u001b[39;49m\u001b[43mkwargs\u001b[49m\u001b[43m)\u001b[49m)\n",
      "File \u001b[0;32m~/workspace/kinexon/lps/lib/python3.10/site-packages/sympy/core/basic.py:991\u001b[0m, in \u001b[0;36mBasic.subs\u001b[0;34m(self, *args, **kwargs)\u001b[0m\n\u001b[1;32m    988\u001b[0m     \u001b[38;5;28;01melse\u001b[39;00m:\n\u001b[1;32m    989\u001b[0m         \u001b[38;5;28;01mreturn\u001b[39;00m sympify(new, strict\u001b[38;5;241m=\u001b[39m\u001b[38;5;28;01mTrue\u001b[39;00m)\n\u001b[0;32m--> 991\u001b[0m sequence \u001b[38;5;241m=\u001b[39m [(sympify_old(s1), sympify_new(s2)) \u001b[38;5;28;01mfor\u001b[39;00m s1, s2 \u001b[38;5;129;01min\u001b[39;00m sequence]\n\u001b[1;32m    993\u001b[0m \u001b[38;5;66;03m# skip if there is no change\u001b[39;00m\n\u001b[1;32m    994\u001b[0m sequence \u001b[38;5;241m=\u001b[39m [(s1, s2) \u001b[38;5;28;01mfor\u001b[39;00m s1, s2 \u001b[38;5;129;01min\u001b[39;00m sequence \u001b[38;5;28;01mif\u001b[39;00m \u001b[38;5;129;01mnot\u001b[39;00m _aresame(s1, s2)]\n",
      "File \u001b[0;32m~/workspace/kinexon/lps/lib/python3.10/site-packages/sympy/core/basic.py:991\u001b[0m, in \u001b[0;36m<listcomp>\u001b[0;34m(.0)\u001b[0m\n\u001b[1;32m    988\u001b[0m     \u001b[38;5;28;01melse\u001b[39;00m:\n\u001b[1;32m    989\u001b[0m         \u001b[38;5;28;01mreturn\u001b[39;00m sympify(new, strict\u001b[38;5;241m=\u001b[39m\u001b[38;5;28;01mTrue\u001b[39;00m)\n\u001b[0;32m--> 991\u001b[0m sequence \u001b[38;5;241m=\u001b[39m [(sympify_old(s1), \u001b[43msympify_new\u001b[49m\u001b[43m(\u001b[49m\u001b[43ms2\u001b[49m\u001b[43m)\u001b[49m) \u001b[38;5;28;01mfor\u001b[39;00m s1, s2 \u001b[38;5;129;01min\u001b[39;00m sequence]\n\u001b[1;32m    993\u001b[0m \u001b[38;5;66;03m# skip if there is no change\u001b[39;00m\n\u001b[1;32m    994\u001b[0m sequence \u001b[38;5;241m=\u001b[39m [(s1, s2) \u001b[38;5;28;01mfor\u001b[39;00m s1, s2 \u001b[38;5;129;01min\u001b[39;00m sequence \u001b[38;5;28;01mif\u001b[39;00m \u001b[38;5;129;01mnot\u001b[39;00m _aresame(s1, s2)]\n",
      "File \u001b[0;32m~/workspace/kinexon/lps/lib/python3.10/site-packages/sympy/core/basic.py:989\u001b[0m, in \u001b[0;36mBasic.subs.<locals>.sympify_new\u001b[0;34m(new)\u001b[0m\n\u001b[1;32m    987\u001b[0m     \u001b[38;5;28;01mreturn\u001b[39;00m sympify(new, strict\u001b[38;5;241m=\u001b[39m\u001b[38;5;28;01mFalse\u001b[39;00m)\n\u001b[1;32m    988\u001b[0m \u001b[38;5;28;01melse\u001b[39;00m:\n\u001b[0;32m--> 989\u001b[0m     \u001b[38;5;28;01mreturn\u001b[39;00m \u001b[43msympify\u001b[49m\u001b[43m(\u001b[49m\u001b[43mnew\u001b[49m\u001b[43m,\u001b[49m\u001b[43m \u001b[49m\u001b[43mstrict\u001b[49m\u001b[38;5;241;43m=\u001b[39;49m\u001b[38;5;28;43;01mTrue\u001b[39;49;00m\u001b[43m)\u001b[49m\n",
      "File \u001b[0;32m~/workspace/kinexon/lps/lib/python3.10/site-packages/sympy/core/sympify.py:449\u001b[0m, in \u001b[0;36msympify\u001b[0;34m(a, locals, convert_xor, strict, rational, evaluate)\u001b[0m\n\u001b[1;32m    446\u001b[0m                 \u001b[38;5;28;01mcontinue\u001b[39;00m\n\u001b[1;32m    448\u001b[0m \u001b[38;5;28;01mif\u001b[39;00m strict:\n\u001b[0;32m--> 449\u001b[0m     \u001b[38;5;28;01mraise\u001b[39;00m SympifyError(a)\n\u001b[1;32m    451\u001b[0m \u001b[38;5;28;01mif\u001b[39;00m iterable(a):\n\u001b[1;32m    452\u001b[0m     \u001b[38;5;28;01mtry\u001b[39;00m:\n",
      "\u001b[0;31mSympifyError\u001b[0m: SympifyError: array([20])"
     ]
    }
   ],
   "source": [
    "alpha = 0.2\n",
    "measurements = np.array([55.18701752483591, 61.55713628575031, 61.32000781174319, 55.65164061739057]).reshape((4, 1))\n",
    "states_history = [np.array([20, 20]).reshape((2, 1))]\n",
    "for i in range(1, 10):\n",
    "    x_t, y_t = states_history[i-1]\n",
    "    print(x_t, y_t)\n",
    "    state_eval = [(xp, x_t), (yp, y_t)]\n",
    "    Ji = gPartDeriv.subs(state_eval)\n",
    "    Pi1 = Ji.T * Ji\n",
    "    Pi = -Pi1.inv() * Ji.T\n",
    "    res = measurements - gConstEvaled.subs(state_eval)\n",
    "    new_state = states_history[i-1] + alpha*Pi*res\n",
    "    states_history.append(new_state)"
   ]
  }
 ],
 "metadata": {
  "kernelspec": {
   "display_name": "lps",
   "language": "python",
   "name": "python3"
  },
  "language_info": {
   "codemirror_mode": {
    "name": "ipython",
    "version": 3
   },
   "file_extension": ".py",
   "mimetype": "text/x-python",
   "name": "python",
   "nbconvert_exporter": "python",
   "pygments_lexer": "ipython3",
   "version": "3.10.12"
  }
 },
 "nbformat": 4,
 "nbformat_minor": 2
}
